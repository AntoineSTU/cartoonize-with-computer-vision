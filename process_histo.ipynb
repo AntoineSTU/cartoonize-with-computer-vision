{
 "cells": [
  {
   "cell_type": "code",
   "execution_count": null,
   "metadata": {},
   "outputs": [],
   "source": [
    "import json\n",
    "import numpy as np\n",
    "import matplotlib.pyplot as plt"
   ]
  },
  {
   "cell_type": "code",
   "execution_count": null,
   "metadata": {},
   "outputs": [],
   "source": [
    "def compute_reverse_histo_norm(histo):\n",
    "    high_limit = len(histo)\n",
    "\n",
    "    # First we compute the normalized cumulative histogram\n",
    "    histo_increasing = np.cumsum(histo)\n",
    "    histo_norm = (histo_increasing / histo_increasing[-1] * (high_limit-1)).astype(np.uint8)\n",
    "    \n",
    "    # Then we compute the reverse histogram\n",
    "    histo_returned = []\n",
    "    current_value = -1\n",
    "    indices_explored = []\n",
    "\n",
    "    for i, val in enumerate(histo_norm):\n",
    "        if val != current_value:\n",
    "            if current_value != -1:\n",
    "                histo_returned.append(int(np.mean(indices_explored)))\n",
    "            for k in range(current_value+1, val):\n",
    "                histo_returned.append(i-1 if i > 0 and (k-current_value)/(val-current_value) <= 0.5 else i)\n",
    "            indices_explored = [i]\n",
    "            current_value = val\n",
    "        else:\n",
    "            indices_explored.append(i)\n",
    "\n",
    "    histo_returned.append(int(np.mean(indices_explored)))\n",
    "    for k in range(current_value+1, high_limit):\n",
    "        histo_returned.append(high_limit-1)\n",
    "    \n",
    "    return histo_returned"
   ]
  },
  {
   "cell_type": "code",
   "execution_count": null,
   "metadata": {},
   "outputs": [],
   "source": [
    "with open(\"histo_values.json\", \"r\") as f:\n",
    "    histo_values = json.load(f)\n",
    "\n",
    "direct_histo = {k: [histo_x[str(i)] if str(i) in histo_x else 0 for i in range(256)] for (k, histo_x) in histo_values.items()}"
   ]
  },
  {
   "cell_type": "code",
   "execution_count": null,
   "metadata": {},
   "outputs": [],
   "source": [
    "reversed_histo = {k: compute_reverse_histo_norm(v) for k, v in direct_histo.items()}"
   ]
  },
  {
   "cell_type": "code",
   "execution_count": null,
   "metadata": {},
   "outputs": [],
   "source": [
    "for k in direct_histo:\n",
    "    plt.plot(range(len(direct_histo[k])), np.cumsum(direct_histo[k]))\n",
    "    plt.title(f\"{k} cumulative\")\n",
    "    plt.show()\n",
    "    plt.plot(range(len(reversed_histo[k])), reversed_histo[k])\n",
    "    plt.title(f\"{k} reversed\")\n",
    "    plt.show()"
   ]
  },
  {
   "cell_type": "code",
   "execution_count": null,
   "metadata": {},
   "outputs": [],
   "source": [
    "with open(\"reversed_histo.json\", \"w\") as f:\n",
    "    json.dump(reversed_histo, f)"
   ]
  }
 ],
 "metadata": {
  "interpreter": {
   "hash": "95d434c15d7c1f28b268fe54cfe54716ddab65e34521285ad9829a57e3094f9f"
  },
  "kernelspec": {
   "display_name": "Python 3.9.9 ('deepl')",
   "language": "python",
   "name": "python3"
  },
  "language_info": {
   "codemirror_mode": {
    "name": "ipython",
    "version": 3
   },
   "file_extension": ".py",
   "mimetype": "text/x-python",
   "name": "python",
   "nbconvert_exporter": "python",
   "pygments_lexer": "ipython3",
   "version": "3.9.9"
  },
  "orig_nbformat": 4
 },
 "nbformat": 4,
 "nbformat_minor": 2
}
